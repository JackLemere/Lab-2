{
  "nbformat": 4,
  "nbformat_minor": 0,
  "metadata": {
    "colab": {
      "name": "Area of Triangle.ipynb",
      "provenance": []
    },
    "kernelspec": {
      "name": "python3",
      "display_name": "Python 3"
    }
  },
  "cells": [
    {
      "cell_type": "code",
      "metadata": {
        "colab": {
          "base_uri": "https://localhost:8080/"
        },
        "id": "CfAjFVSVUowo",
        "outputId": "fdee0361-9241-42ef-bf95-2b5238e06dff"
      },
      "source": [
        "base = 10\r\n",
        "height = 15\r\n",
        "\r\n",
        "area = (base*height) / 2\r\n",
        "\r\n",
        "print(\"The area of the triangle is: \" + str(round(area, 2)))"
      ],
      "execution_count": 1,
      "outputs": [
        {
          "output_type": "stream",
          "text": [
            "The area of the triangle is: 75.0\n"
          ],
          "name": "stdout"
        }
      ]
    }
  ]
}